{
 "cells": [
  {
   "cell_type": "code",
   "execution_count": 1,
   "id": "2f30e881",
   "metadata": {},
   "outputs": [
    {
     "name": "stdout",
     "output_type": "stream",
     "text": [
      "player 1 enter your choice(stone, paper, scissor)stone\n",
      "player 2 enter your choice(stone, paper, scissor)paper\n",
      "player2 won\n"
     ]
    }
   ],
   "source": [
    "player1= input(\"player 1 enter your choice(stone, paper, scissor)\")\n",
    "player2= input(\"player 2 enter your choice(stone, paper, scissor)\")\n",
    "\n",
    "if player1==player2:\n",
    "    print(\"tie\")\n",
    "    \n",
    "elif player1==\"stone\" and player2==\"paper\":\n",
    "    print(\"player2 won\")\n",
    "elif player1==\"paper\" and player2==\"stone\":\n",
    "    print(\"player1 won\")\n",
    "elif player1==\"stone\" and player2==\"scissor\":\n",
    "    print(\"player1 won\")\n",
    "elif player1==\"scissor\" and player2==\"stone\":\n",
    "    print(\"player2 won\")\n",
    "elif player1==\"paper\" and player2==\"scissor\":\n",
    "    print(\"player2 won\")\n",
    "elif player1==\"scissor\" and player2==\"paper\":\n",
    "    print(\"player1 won\")\n",
    "    \n",
    "else:\n",
    "    print(\"please enter the correct choice\")"
   ]
  },
  {
   "cell_type": "code",
   "execution_count": null,
   "id": "f416c3de",
   "metadata": {},
   "outputs": [],
   "source": []
  }
 ],
 "metadata": {
  "kernelspec": {
   "display_name": "Python 3 (ipykernel)",
   "language": "python",
   "name": "python3"
  },
  "language_info": {
   "codemirror_mode": {
    "name": "ipython",
    "version": 3
   },
   "file_extension": ".py",
   "mimetype": "text/x-python",
   "name": "python",
   "nbconvert_exporter": "python",
   "pygments_lexer": "ipython3",
   "version": "3.11.4"
  }
 },
 "nbformat": 4,
 "nbformat_minor": 5
}
