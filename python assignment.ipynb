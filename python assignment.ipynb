{
 "cells": [
  {
   "cell_type": "code",
   "execution_count": 8,
   "id": "ebae567d",
   "metadata": {},
   "outputs": [
    {
     "name": "stdout",
     "output_type": "stream",
     "text": [
      "write the stringhello\n",
      "HELLO\n"
     ]
    }
   ],
   "source": [
    "user=input(\"write the string\")\n",
    "x=user.upper()\n",
    "print(x)"
   ]
  },
  {
   "cell_type": "code",
   "execution_count": 9,
   "id": "c4771258",
   "metadata": {},
   "outputs": [
    {
     "name": "stdout",
     "output_type": "stream",
     "text": [
      "['e', 'n', 'o', 'y', 'r', 'e', 'v', 'e', ' ', 'y', 'e', 'h']\n"
     ]
    }
   ],
   "source": [
    "x=(\"hey everyone\")\n",
    "x=list(x)\n",
    "list.reverse(x)\n",
    "print(x)"
   ]
  },
  {
   "cell_type": "code",
   "execution_count": 18,
   "id": "eb5104fc",
   "metadata": {},
   "outputs": [
    {
     "name": "stdout",
     "output_type": "stream",
     "text": [
      "2\n"
     ]
    }
   ],
   "source": [
    "x=(\"hi hi everyone\")\n",
    "y=x.count(\"hi\")\n",
    "print(y)"
   ]
  },
  {
   "cell_type": "code",
   "execution_count": 23,
   "id": "8a55ac5d",
   "metadata": {},
   "outputs": [
    {
     "name": "stdout",
     "output_type": "stream",
     "text": [
      "write the word : god\n",
      "it is not a palindrome\n",
      "write the word : mom\n",
      "it is a palindrome\n"
     ]
    }
   ],
   "source": [
    "x=input(\"write the word : \")\n",
    "\n",
    "if x==x[::-1]:\n",
    "    print(\"it is a palindrome\")\n",
    "else:\n",
    "    print(\"it is not a palindrome\")\n",
    "    \n",
    "x=input(\"write the word : \")\n",
    "\n",
    "if x==x[::-1]:\n",
    "    print(\"it is a palindrome\")\n",
    "else:\n",
    "    print(\"it is not a palindrome\")\n",
    "    "
   ]
  },
  {
   "cell_type": "code",
   "execution_count": 10,
   "id": "d8fc075b",
   "metadata": {},
   "outputs": [
    {
     "name": "stdout",
     "output_type": "stream",
     "text": [
      "write the string : hiii\n",
      "['h']\n"
     ]
    }
   ],
   "source": [
    "x=input(\"write the string : \")\n",
    "a=list(x)\n",
    "\n",
    "for i in a:\n",
    "    if i==\"a\" or i==\"e\" or i==\"i\" or i==\"o\" or i==\"u\":\n",
    "        b=a.count(i)\n",
    "        for j in range(0,b):\n",
    "            a.remove(i)\n",
    "print(a)\n",
    "\n",
    "\n",
    "    \n",
    " "
   ]
  },
  {
   "cell_type": "code",
   "execution_count": 20,
   "id": "88958baf",
   "metadata": {},
   "outputs": [
    {
     "name": "stdout",
     "output_type": "stream",
     "text": [
      "enter the element : i have apples\n",
      "element is not present\n",
      "element is not present\n",
      "element is not present\n",
      "element is not present\n",
      "element is not present\n",
      "element is not present\n",
      "element is not present\n",
      "element is not present\n",
      "element is not present\n",
      "element is not present\n",
      "element is not present\n",
      "element is not present\n",
      "element is not present\n",
      "i have apples\n"
     ]
    }
   ],
   "source": [
    "l=(input(\"enter the element : \"))\n",
    "for i in l:\n",
    "    if l==\"have\":\n",
    "        print(\"element is present\")\n",
    "        break\n",
    "else:\n",
    "    print(\"element is not present\")\n",
    "print(l)"
   ]
  },
  {
   "cell_type": "code",
   "execution_count": 1,
   "id": "f01ecf51",
   "metadata": {},
   "outputs": [
    {
     "name": "stdout",
     "output_type": "stream",
     "text": [
      "[2, 3, 4, 5, 6, 7]\n"
     ]
    }
   ],
   "source": [
    "l=[2,2,3,4,5,5,6,7]   \n",
    "l=list(dict.fromkeys(l))\n",
    "print(l)"
   ]
  },
  {
   "cell_type": "code",
   "execution_count": 3,
   "id": "cee3e560",
   "metadata": {},
   "outputs": [
    {
     "name": "stdout",
     "output_type": "stream",
     "text": [
      "[1, 2, 4, 5, 7, 8, 9]\n"
     ]
    }
   ],
   "source": [
    "l=[5,2,7,4,8,1,9]\n",
    "l.sort()\n",
    "print(l)"
   ]
  },
  {
   "cell_type": "code",
   "execution_count": 6,
   "id": "7d616405",
   "metadata": {},
   "outputs": [
    {
     "name": "stdout",
     "output_type": "stream",
     "text": [
      "36\n"
     ]
    }
   ],
   "source": [
    "l=[5,2,7,4,8,1,9]\n",
    "l=sum(l)\n",
    "print(l)"
   ]
  },
  {
   "cell_type": "code",
   "execution_count": 10,
   "id": "caf3c56d",
   "metadata": {},
   "outputs": [
    {
     "name": "stdout",
     "output_type": "stream",
     "text": [
      "[5, 2, 7, 4, 8, 1, 9, 3]\n"
     ]
    }
   ],
   "source": [
    "l=[5,2,7,4,8,1,9,3,6]\n",
    "l.pop(8)\n",
    "print(l)"
   ]
  },
  {
   "cell_type": "code",
   "execution_count": 24,
   "id": "3114d460",
   "metadata": {},
   "outputs": [
    {
     "name": "stdout",
     "output_type": "stream",
     "text": [
      "[1, 2, 2, 2, 3, 4, 4, 5, 5, 5, 6, 7, 7, 8, 9]\n",
      "[1, 2, 2, 2, 3, 4, 4, 5, 5, 5, 6, 7, 7, 8, 9]\n"
     ]
    }
   ],
   "source": [
    "a=[5,2,7,4,8,1,9]\n",
    "b=[2,2,3,4,5,5,6,7] \n",
    "a.extend(b)\n",
    "a.sort()\n",
    "print(a)\n",
    "\n",
    "a=[5,2,7,4,8,1,9]\n",
    "b=[2,2,3,4,5,5,6,7] \n",
    "c=a+b\n",
    "c.sort()\n",
    "print(c)\n"
   ]
  },
  {
   "cell_type": "code",
   "execution_count": 29,
   "id": "8a75c6cc",
   "metadata": {},
   "outputs": [
    {
     "name": "stdout",
     "output_type": "stream",
     "text": [
      "6\n"
     ]
    }
   ],
   "source": [
    "a=[5,2,7,4,8,1,9]\n",
    "print(a.index(9))"
   ]
  },
  {
   "cell_type": "code",
   "execution_count": 35,
   "id": "9a3a20ad",
   "metadata": {},
   "outputs": [
    {
     "name": "stdout",
     "output_type": "stream",
     "text": [
      "5.142857142857143\n"
     ]
    }
   ],
   "source": [
    "a=[5,2,7,4,8,1,9]\n",
    "avg=sum(a)/len(a)\n",
    "print(avg)"
   ]
  },
  {
   "cell_type": "code",
   "execution_count": 36,
   "id": "4f3582b9",
   "metadata": {},
   "outputs": [
    {
     "name": "stdout",
     "output_type": "stream",
     "text": [
      "[9, 8, 7, 5, 4, 2, 1]\n"
     ]
    }
   ],
   "source": [
    "a=[5,2,7,4,8,1,9]\n",
    "a.sort(reverse=True)\n",
    "print(a)"
   ]
  },
  {
   "cell_type": "code",
   "execution_count": 3,
   "id": "6fb126ca",
   "metadata": {},
   "outputs": [
    {
     "name": "stdout",
     "output_type": "stream",
     "text": [
      "hello 5\n"
     ]
    }
   ],
   "source": [
    "a=('hello')\n",
    "print(a,len(a))print"
   ]
  },
  {
   "cell_type": "code",
   "execution_count": 10,
   "id": "d3fddb2e",
   "metadata": {},
   "outputs": [
    {
     "name": "stdout",
     "output_type": "stream",
     "text": [
      "('hello', 'everyone', 'good')\n"
     ]
    }
   ],
   "source": [
    "a=('hello', 'everyone', 'good', 'morning')\n",
    "print(a[:-1:1])"
   ]
  },
  {
   "cell_type": "code",
   "execution_count": 12,
   "id": "3a0b557d",
   "metadata": {},
   "outputs": [
    {
     "name": "stdout",
     "output_type": "stream",
     "text": [
      "('hello', 'everyone', 'good', 'morning', 1, 2, 3, 4, 5)\n"
     ]
    }
   ],
   "source": [
    "a=('hello', 'everyone', 'good', 'morning')\n",
    "b=(1,2,3,4,5)\n",
    "c=a+b\n",
    "print(c)"
   ]
  },
  {
   "cell_type": "code",
   "execution_count": 11,
   "id": "07132ba0",
   "metadata": {},
   "outputs": [
    {
     "name": "stdout",
     "output_type": "stream",
     "text": [
      "(1, 2, 3, 4, 5) <class 'tuple'>\n"
     ]
    }
   ],
   "source": [
    "a=(1,2,3,4,5)\n",
    "print(a, type(a))"
   ]
  },
  {
   "cell_type": "code",
   "execution_count": 13,
   "id": "6c1a2dda",
   "metadata": {},
   "outputs": [
    {
     "name": "stdout",
     "output_type": "stream",
     "text": [
      "[1, 2, 3, 4, 5]\n"
     ]
    }
   ],
   "source": [
    "a=(1,2,3,4,5)\n",
    "a=list(a)\n",
    "print(a)"
   ]
  },
  {
   "cell_type": "code",
   "execution_count": 15,
   "id": "5c227964",
   "metadata": {},
   "outputs": [
    {
     "name": "stdout",
     "output_type": "stream",
     "text": [
      "2\n"
     ]
    }
   ],
   "source": [
    "a=(1,2,3,4,5)\n",
    "print(a.index(3))"
   ]
  },
  {
   "cell_type": "code",
   "execution_count": 20,
   "id": "fd5b0c5f",
   "metadata": {},
   "outputs": [
    {
     "name": "stdout",
     "output_type": "stream",
     "text": [
      "3\n"
     ]
    }
   ],
   "source": [
    "a=(1,2,2,2,3,4,5)\n",
    "print(a.count(2))"
   ]
  },
  {
   "cell_type": "code",
   "execution_count": 29,
   "id": "29490202",
   "metadata": {},
   "outputs": [
    {
     "name": "stdout",
     "output_type": "stream",
     "text": [
      "yes\n"
     ]
    }
   ],
   "source": [
    "a=(1,2,3,4,5)\n",
    "if 2 in a:\n",
    "    print(\"yes\")\n",
    "else:\n",
    "    print(\"no\")"
   ]
  },
  {
   "cell_type": "code",
   "execution_count": 32,
   "id": "70cddfa5",
   "metadata": {},
   "outputs": [
    {
     "name": "stdout",
     "output_type": "stream",
     "text": [
      "[5, 4, 3, 2, 1]\n"
     ]
    }
   ],
   "source": [
    "a=(1,2,3,4,5)\n",
    "a=list(a)\n",
    "a.sort(reverse=True)\n",
    "print(a)"
   ]
  },
  {
   "cell_type": "code",
   "execution_count": 34,
   "id": "ac13ee03",
   "metadata": {},
   "outputs": [
    {
     "name": "stdout",
     "output_type": "stream",
     "text": [
      "(2, 3, 4)\n"
     ]
    }
   ],
   "source": [
    "a=(1,2,3,4,5)\n",
    "print(a[1:-1:1])"
   ]
  },
  {
   "cell_type": "code",
   "execution_count": 35,
   "id": "6e0882a8",
   "metadata": {},
   "outputs": [
    {
     "name": "stdout",
     "output_type": "stream",
     "text": [
      "15\n"
     ]
    }
   ],
   "source": [
    "a=(1,2,3,4,5)\n",
    "a=sum(a)\n",
    "print(a)"
   ]
  },
  {
   "cell_type": "code",
   "execution_count": 43,
   "id": "67d6688e",
   "metadata": {},
   "outputs": [
    {
     "name": "stdout",
     "output_type": "stream",
     "text": [
      "dict_keys([1, 2, 3, 4, 5])\n"
     ]
    }
   ],
   "source": [
    "x={1:'rohan', 2:'rahul', 3:'raghav', 4:'ramesh', 5:'raju'}\n",
    "print(x.keys())"
   ]
  },
  {
   "cell_type": "code",
   "execution_count": 51,
   "id": "8c56b592",
   "metadata": {},
   "outputs": [
    {
     "name": "stdout",
     "output_type": "stream",
     "text": [
      "rahul\n"
     ]
    }
   ],
   "source": [
    "x={1:'rohan', 2:'rahul', 3:'raghav', 4:'ramesh', 5:'raju'}\n",
    "print(x[2])"
   ]
  },
  {
   "cell_type": "code",
   "execution_count": 61,
   "id": "61c9aeec",
   "metadata": {},
   "outputs": [
    {
     "name": "stdout",
     "output_type": "stream",
     "text": [
      "{1: 'rohan', 2: 'rahul', 3: 'raghav', 4: 'ramesh', 5: 'raju', 6: 'ram'}\n"
     ]
    }
   ],
   "source": [
    "x={1:'rohan', 2:'rahul', 3:'raghav', 4:'ramesh', 5:'raju'}\n",
    "x.update({6:'ram'})\n",
    "print(x)"
   ]
  },
  {
   "cell_type": "code",
   "execution_count": 62,
   "id": "d5d2065f",
   "metadata": {},
   "outputs": [
    {
     "name": "stdout",
     "output_type": "stream",
     "text": [
      "yes\n"
     ]
    }
   ],
   "source": [
    "x={1:'rohan', 2:'rahul', 3:'raghav', 4:'ramesh', 5:'raju'}\n",
    "if 1 in x:\n",
    "    print(\"yes\")\n",
    "else:\n",
    "    print(\"no\")"
   ]
  },
  {
   "cell_type": "code",
   "execution_count": 64,
   "id": "6ee41aa1",
   "metadata": {},
   "outputs": [
    {
     "name": "stdout",
     "output_type": "stream",
     "text": [
      "{1: 'rohan', 2: 'rahul', 3: 'raghav', 4: 'ramesh'}\n"
     ]
    }
   ],
   "source": [
    "x={1:'rohan', 2:'rahul', 3:'raghav', 4:'ramesh', 5:'raju'}\n",
    "x.pop(5)\n",
    "print(x)"
   ]
  },
  {
   "cell_type": "code",
   "execution_count": 67,
   "id": "826bcef3",
   "metadata": {},
   "outputs": [
    {
     "name": "stdout",
     "output_type": "stream",
     "text": [
      "{1: 'rohan', 2: 'rahul', 3: 'raghav', 4: 'ramesh', 5: 'raju', 6: 'rohan', 7: 'rahul', 8: 'raghav', 9: 'ramesh', 10: 'raju'}\n"
     ]
    }
   ],
   "source": [
    "x={1:'rohan', 2:'rahul', 3:'raghav', 4:'ramesh', 5:'raju'}\n",
    "y={6:'rohan', 7:'rahul', 8:'raghav', 9:'ramesh', 10:'raju'}\n",
    "print(x|y)"
   ]
  },
  {
   "cell_type": "code",
   "execution_count": 69,
   "id": "9b4f3afe",
   "metadata": {},
   "outputs": [
    {
     "name": "stdout",
     "output_type": "stream",
     "text": [
      "5\n"
     ]
    }
   ],
   "source": [
    "x={1:'rohan', 2:'rahul', 3:'raghav', 4:'ramesh', 5:'raju'}\n",
    "print(len(x))"
   ]
  },
  {
   "cell_type": "code",
   "execution_count": 71,
   "id": "c83be2f4",
   "metadata": {},
   "outputs": [
    {
     "name": "stdout",
     "output_type": "stream",
     "text": [
      "dict_values(['rohan', 'rahul', 'raghav', 'ramesh', 'raju'])\n"
     ]
    }
   ],
   "source": [
    "x={1:'rohan', 2:'rahul', 3:'raghav', 4:'ramesh', 5:'raju'}\n",
    "print(x.values())"
   ]
  },
  {
   "cell_type": "code",
   "execution_count": 81,
   "id": "37665770",
   "metadata": {},
   "outputs": [
    {
     "name": "stdout",
     "output_type": "stream",
     "text": [
      "{1: 'raghav', 2: 'rohan', 3: 'ramesh', 4: 'rahul', 5: 'raju'}\n"
     ]
    }
   ],
   "source": [
    "x={2:'rohan', 4:'rahul', 1:'raghav', 3:'ramesh', 5:'raju'}\n",
    "y=dict(sorted(x.items()))\n",
    "print(y)"
   ]
  },
  {
   "cell_type": "code",
   "execution_count": 87,
   "id": "00b757fd",
   "metadata": {},
   "outputs": [
    {
     "name": "stdout",
     "output_type": "stream",
     "text": [
      "rohan\n",
      "yes\n"
     ]
    }
   ],
   "source": [
    "x={1:'rohan', 2:'rahul', 3:'raghav', 4:'ramesh', 5:'raju'}\n",
    "y=x.get(1)\n",
    "print(y)\n",
    "\n",
    "x={1:'rohan', 2:'rahul', 3:'raghav', 4:'ramesh', 5:'raju'}\n",
    "y=x.get(1)\n",
    "if x!= None:\n",
    "    print(\"yes\")\n",
    "else:\n",
    "    print(\"no\")"
   ]
  },
  {
   "cell_type": "code",
   "execution_count": null,
   "id": "9126b8a2",
   "metadata": {},
   "outputs": [],
   "source": []
  }
 ],
 "metadata": {
  "kernelspec": {
   "display_name": "Python 3 (ipykernel)",
   "language": "python",
   "name": "python3"
  },
  "language_info": {
   "codemirror_mode": {
    "name": "ipython",
    "version": 3
   },
   "file_extension": ".py",
   "mimetype": "text/x-python",
   "name": "python",
   "nbconvert_exporter": "python",
   "pygments_lexer": "ipython3",
   "version": "3.11.4"
  }
 },
 "nbformat": 4,
 "nbformat_minor": 5
}
