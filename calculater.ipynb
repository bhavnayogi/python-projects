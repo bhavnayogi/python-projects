{
 "cells": [
  {
   "cell_type": "code",
   "execution_count": 1,
   "id": "740fe0f7",
   "metadata": {},
   "outputs": [
    {
     "name": "stdout",
     "output_type": "stream",
     "text": [
      "enter the number : 56\n",
      "enter another number : 54\n",
      "enter 1 = ADDITION(+) \n",
      "enter 2 = SUBTRACTION(-) \n",
      "enter 3 = MULTIPLICATION(*) \n",
      "enter 4 = DIVISION(/)\n",
      "enter your choice(1/2/3/4) :4\n",
      "your total til now= 1.037037037037037\n",
      "Want to enter another number?(yes or no) : yes\n",
      "enter the number : 456465\n",
      "enter 1 = ADDITION(+) \n",
      "enter 2 = SUBTRACTION(-) \n",
      "enter 3 = MULTIPLICATION(*) \n",
      "enter 4 = DIVISION(/)\n",
      "enter your choice(1/2/3/4) :4\n",
      "your total til now= 2.271887301407637e-06\n",
      "Want to enter another number?(yes or no) : no\n",
      "your total value = 2.271887301407637e-06\n"
     ]
    }
   ],
   "source": [
    "x=int(input(\"enter the number : \"))\n",
    "y=int(input(\"enter another number : \")) \n",
    "t=0\n",
    "print(\"enter 1 = ADDITION(+) \\nenter 2 = SUBTRACTION(-) \\nenter 3 = MULTIPLICATION(*) \\nenter 4 = DIVISION(/)\")\n",
    "l=int(input(\"enter your choice(1/2/3/4) :\"))\n",
    "if l==1:\n",
    "    t=x+y\n",
    "    print(\"your total til now=\",t)\n",
    "elif l==2:\n",
    "    t=x-y\n",
    "    print(\"your total til now=\",t)\n",
    "elif l==3:\n",
    "    t=x*y\n",
    "    print(\"your total til now=\",t)\n",
    "elif l==4:\n",
    "    t=x/y\n",
    "    print(\"your total til now=\",t)\n",
    "else:\n",
    "    pass\n",
    "while True:\n",
    "    z=input(\"Want to enter another number?(yes or no) : \")\n",
    "    if z==\"yes\":\n",
    "        a=int(input(\"enter the number : \"))\n",
    "        print(\"enter 1 = ADDITION(+) \\nenter 2 = SUBTRACTION(-) \\nenter 3 = MULTIPLICATION(*) \\nenter 4 = DIVISION(/)\")\n",
    "        m=int(input(\"enter your choice(1/2/3/4) :\"))\n",
    "        if m==1:\n",
    "            t=t+a\n",
    "            print(\"your total til now=\",t)\n",
    "        elif m==2:\n",
    "            t=t-a\n",
    "            print(\"your total til now=\",t)\n",
    "        elif m==3:\n",
    "            t=t*a\n",
    "            print(\"your total til now=\",t)\n",
    "        elif m==4:\n",
    "            t=t/a\n",
    "            print(\"your total til now=\",t)\n",
    "    else:\n",
    "        print(\"your total value =\",t)\n",
    "        break\n",
    "\n",
    "    "
   ]
  },
  {
   "cell_type": "code",
   "execution_count": 7,
   "id": "0a93ae57",
   "metadata": {},
   "outputs": [],
   "source": [
    "def add():\n",
    "    a=int(input(\"enter the number=\"))\n",
    "    b=int(input(\"enter the number=\"))\n",
    "    print(a+b)"
   ]
  },
  {
   "cell_type": "code",
   "execution_count": null,
   "id": "abeee6ca",
   "metadata": {},
   "outputs": [],
   "source": []
  }
 ],
 "metadata": {
  "kernelspec": {
   "display_name": "Python 3 (ipykernel)",
   "language": "python",
   "name": "python3"
  },
  "language_info": {
   "codemirror_mode": {
    "name": "ipython",
    "version": 3
   },
   "file_extension": ".py",
   "mimetype": "text/x-python",
   "name": "python",
   "nbconvert_exporter": "python",
   "pygments_lexer": "ipython3",
   "version": "3.11.4"
  }
 },
 "nbformat": 4,
 "nbformat_minor": 5
}
