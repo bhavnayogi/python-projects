{
 "cells": [
  {
   "cell_type": "code",
   "execution_count": 1,
   "id": "4edf79af",
   "metadata": {},
   "outputs": [],
   "source": [
    "import random"
   ]
  },
  {
   "cell_type": "code",
   "execution_count": 2,
   "id": "ed5cdd7c",
   "metadata": {},
   "outputs": [
    {
     "name": "stdout",
     "output_type": "stream",
     "text": [
      "enter your guessed number : 40\n",
      "40 is smaller than the actual number\n",
      "-----------------------------------TRY AGAIN------------------------------------\n",
      "enter your guessed number : 80\n",
      "80 is greater than the actual number\n",
      "-----------------------------------TRY AGAIN------------------------------------\n",
      "enter your guessed number : 60\n",
      "60 is greater than the actual number\n",
      "-----------------------------------TRY AGAIN------------------------------------\n",
      "enter your guessed number : 50\n",
      "50 is greater than the actual number\n",
      "-----------------------------------TRY AGAIN------------------------------------\n",
      "enter your guessed number : 45\n",
      "45 is greater than the actual number\n",
      "-----------------------------------TRY AGAIN------------------------------------\n",
      "enter your guessed number : 42\n",
      "42 is smaller than the actual number\n",
      "-----------------------------------TRY AGAIN------------------------------------\n",
      "enter your guessed number : 44\n",
      "GUESSED RIGHT\n",
      "--------------------------------CONGRATULATIONS---------------------------------\n"
     ]
    }
   ],
   "source": [
    "b=random.randrange(1,50)\n",
    "i=0\n",
    "while True:\n",
    "    a=int(input(\"enter your guessed number : \"))\n",
    "    if a>b:\n",
    "        print(a,\"is greater than the actual number\")\n",
    "        print(\"TRY AGAIN\".center(80,\"-\"))\n",
    "        i+=1\n",
    "    elif a<b:\n",
    "        print(a,\"is smaller than the actual number\")\n",
    "        print(\"TRY AGAIN\".center(80,\"-\"))\n",
    "        i+=1\n",
    "    elif a==b:\n",
    "        print(\"GUESSED RIGHT\")\n",
    "        print(\"CONGRATULATIONS\".center(80,\"-\"))\n",
    "        i+=1\n",
    "        break\n",
    "    "
   ]
  },
  {
   "cell_type": "code",
   "execution_count": null,
   "id": "86f0c1ff",
   "metadata": {},
   "outputs": [],
   "source": []
  },
  {
   "cell_type": "code",
   "execution_count": null,
   "id": "0ede2d9e",
   "metadata": {},
   "outputs": [],
   "source": []
  }
 ],
 "metadata": {
  "kernelspec": {
   "display_name": "Python 3 (ipykernel)",
   "language": "python",
   "name": "python3"
  },
  "language_info": {
   "codemirror_mode": {
    "name": "ipython",
    "version": 3
   },
   "file_extension": ".py",
   "mimetype": "text/x-python",
   "name": "python",
   "nbconvert_exporter": "python",
   "pygments_lexer": "ipython3",
   "version": "3.11.4"
  }
 },
 "nbformat": 4,
 "nbformat_minor": 5
}
